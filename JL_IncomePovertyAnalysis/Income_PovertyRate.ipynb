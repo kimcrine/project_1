{
 "cells": [
  {
   "cell_type": "code",
   "execution_count": 1,
   "metadata": {},
   "outputs": [],
   "source": [
    "# Dependencies\n",
    "import numpy as np\n",
    "import pandas as pd\n",
    "import matplotlib.pyplot as plt\n",
    "import requests\n",
    "from census import Census\n",
    "\n",
    "# Census API Key\n",
    "from config import api_key\n",
    "c = Census(api_key, year=2017)"
   ]
  },
  {
   "cell_type": "code",
   "execution_count": 2,
   "metadata": {},
   "outputs": [],
   "source": [
    "# Run Census Search to retrieve data on all zip codes (2013 ACS5 Census)\n",
    "# See: https://github.com/CommerceDataService/census-wrapper for library documentation\n",
    "# See: https://gist.github.com/afhaque/60558290d6efd892351c4b64e5c01e9b for labels\n",
    "census_data = c.acs5.get((\"NAME\", \"B19013_001E\", \"B01003_001E\", \"B01002_001E\",\n",
    "                          \"B19301_001E\",\n",
    "                          \"B17001_002E\"), {'for': 'zip code tabulation area:*'})\n",
    "\n",
    "# Convert to DataFrame\n",
    "census_pd = pd.DataFrame(census_data)"
   ]
  },
  {
   "cell_type": "code",
   "execution_count": 3,
   "metadata": {},
   "outputs": [
    {
     "data": {
      "text/html": [
       "<div>\n",
       "<style scoped>\n",
       "    .dataframe tbody tr th:only-of-type {\n",
       "        vertical-align: middle;\n",
       "    }\n",
       "\n",
       "    .dataframe tbody tr th {\n",
       "        vertical-align: top;\n",
       "    }\n",
       "\n",
       "    .dataframe thead th {\n",
       "        text-align: right;\n",
       "    }\n",
       "</style>\n",
       "<table border=\"1\" class=\"dataframe\">\n",
       "  <thead>\n",
       "    <tr style=\"text-align: right;\">\n",
       "      <th></th>\n",
       "      <th>Population</th>\n",
       "      <th>Household Income</th>\n",
       "      <th>Per Capita Income</th>\n",
       "      <th>Poverty Count</th>\n",
       "      <th>Poverty Rate</th>\n",
       "    </tr>\n",
       "    <tr>\n",
       "      <th>Zipcode</th>\n",
       "      <th></th>\n",
       "      <th></th>\n",
       "      <th></th>\n",
       "      <th></th>\n",
       "      <th></th>\n",
       "    </tr>\n",
       "  </thead>\n",
       "  <tbody>\n",
       "    <tr>\n",
       "      <th>00601</th>\n",
       "      <td>17599.0</td>\n",
       "      <td>11757.0</td>\n",
       "      <td>7041.0</td>\n",
       "      <td>11282.0</td>\n",
       "      <td>64.105915</td>\n",
       "    </tr>\n",
       "    <tr>\n",
       "      <th>00602</th>\n",
       "      <td>39209.0</td>\n",
       "      <td>16190.0</td>\n",
       "      <td>8978.0</td>\n",
       "      <td>20428.0</td>\n",
       "      <td>52.100283</td>\n",
       "    </tr>\n",
       "    <tr>\n",
       "      <th>00603</th>\n",
       "      <td>50135.0</td>\n",
       "      <td>16645.0</td>\n",
       "      <td>10897.0</td>\n",
       "      <td>25176.0</td>\n",
       "      <td>50.216416</td>\n",
       "    </tr>\n",
       "    <tr>\n",
       "      <th>00606</th>\n",
       "      <td>6304.0</td>\n",
       "      <td>13387.0</td>\n",
       "      <td>5960.0</td>\n",
       "      <td>4092.0</td>\n",
       "      <td>64.911168</td>\n",
       "    </tr>\n",
       "    <tr>\n",
       "      <th>00610</th>\n",
       "      <td>27590.0</td>\n",
       "      <td>18741.0</td>\n",
       "      <td>9266.0</td>\n",
       "      <td>12553.0</td>\n",
       "      <td>45.498369</td>\n",
       "    </tr>\n",
       "  </tbody>\n",
       "</table>\n",
       "</div>"
      ],
      "text/plain": [
       "         Population  Household Income  Per Capita Income  Poverty Count  \\\n",
       "Zipcode                                                                   \n",
       "00601       17599.0           11757.0             7041.0        11282.0   \n",
       "00602       39209.0           16190.0             8978.0        20428.0   \n",
       "00603       50135.0           16645.0            10897.0        25176.0   \n",
       "00606        6304.0           13387.0             5960.0         4092.0   \n",
       "00610       27590.0           18741.0             9266.0        12553.0   \n",
       "\n",
       "         Poverty Rate  \n",
       "Zipcode                \n",
       "00601       64.105915  \n",
       "00602       52.100283  \n",
       "00603       50.216416  \n",
       "00606       64.911168  \n",
       "00610       45.498369  "
      ]
     },
     "execution_count": 3,
     "metadata": {},
     "output_type": "execute_result"
    }
   ],
   "source": [
    "# Column Reordering\n",
    "census_pd = census_pd.rename(columns={\"B01003_001E\": \"Population\",\n",
    "                                      \"B19013_001E\": \"Household Income\",\n",
    "                                      \"B19301_001E\": \"Per Capita Income\",\n",
    "                                      \"B17001_002E\": \"Poverty Count\",\n",
    "                                      \"NAME\": \"Name\", \"zip code tabulation area\"\n",
    "                                      : \"Zipcode\"})\n",
    "\n",
    "# Add in Poverty Rate (Poverty Count / Population)\n",
    "census_pd[\"Poverty Rate\"] = 100 * \\\n",
    "    census_pd[\"Poverty Count\"].astype(\n",
    "        int) / census_pd[\"Population\"].astype(int)\n",
    "\n",
    "# Final DataFrame\n",
    "census_pd = census_pd[[\"Zipcode\", \"Population\", \"Household Income\",\n",
    "                       \"Per Capita Income\", \"Poverty Count\", \"Poverty Rate\"]]\n",
    "\n",
    "# Set zipcode as index\n",
    "census_pd = census_pd.set_index(\"Zipcode\")\n",
    "\n",
    "# Visualize\n",
    "census_pd.head()"
   ]
  },
  {
   "cell_type": "code",
   "execution_count": 4,
   "metadata": {},
   "outputs": [],
   "source": [
    "# Create DataFrame for only Brooklyn zipcodes\n",
    "brooklyn_df = census_pd.loc[[\"11212\", \"11213\", \"11216\", \"11233\", \"11238\",  \n",
    "                          \"11209\", \"11214\", \"11228\",  \n",
    "                          \"11204\", \"11218\", \"11219\", \"11230\",  \n",
    "                          \"11234\", \"11236\", \"11239\",  \n",
    "                          \"11223\", \"11224\", \"11229\", \"11235\", \n",
    "                          \"11201\", \"11205\", \"11215\", \"11217\", \"11231\",  \n",
    "                          \"11203\", \"11210\", \"11225\", \"11226\", \n",
    "                             \"11207\", \"11208\", \n",
    "                             \"11211\", \"11222\", \"11220\", \"11232\", \n",
    "                             \"11206\", \"11221\", \"11237\"], :]\n",
    "\n",
    "# Add borough column\n",
    "brooklyn_df['Borough'] = \"Brooklyn\""
   ]
  },
  {
   "cell_type": "code",
   "execution_count": 5,
   "metadata": {},
   "outputs": [],
   "source": [
    "# Create DataFrame for only Bronx zipcodes\n",
    "bronx_df = census_pd.loc[[\"10453\", \"10457\", \"10460\", \n",
    "                          \"10458\", \"10467\", \"10468\", \n",
    "                          \"10451\", \"10452\", \"10456\", \n",
    "                          \"10454\", \"10455\", \"10459\", \"10474\", \n",
    "                          \"10463\", \"10471\", \n",
    "                          \"10466\", \"10469\", \"10470\", \"10475\", \n",
    "                          \"10461\", \"10462\", \"10464\", \"10465\", \"10472\", \"10473\"], :]\n",
    "\n",
    "# Add borough column\n",
    "bronx_df['Borough'] = \"Bronx\""
   ]
  },
  {
   "cell_type": "code",
   "execution_count": 6,
   "metadata": {},
   "outputs": [],
   "source": [
    "# Create DataFrame for only Manhattan zipcodes\n",
    "manhattan_df = census_pd.loc[[\"10026\", \"10027\", \"10030\", \"10037\", \"10039\", \n",
    "                          \"10001\", \"10011\", \"10018\", \"10019\", \"10036\", \n",
    "                          \"10029\", \"10035\", \n",
    "                          \"10010\", \"10016\", \"10017\", \"10022\", \n",
    "                          \"10012\", \"10013\", \"10014\", \n",
    "                          \"10004\", \"10005\", \"10006\", \"10007\", \"10038\", \"10280\", \n",
    "                              \"10002\", \"10003\", \"10009\", \"10021\", \"10028\", \"10044\", \n",
    "                              \"10065\", \"10075\", \"10128\", \"10023\", \"10024\", \"10025\", \n",
    "                              \"10031\", \"10032\", \"10033\", \"10034\", \"10040\"], :]\n",
    "\n",
    "# Add borough column\n",
    "manhattan_df['Borough'] = \"Manhattan\""
   ]
  },
  {
   "cell_type": "code",
   "execution_count": 7,
   "metadata": {},
   "outputs": [],
   "source": [
    "# Create DataFrame for only Staten Island zipcodes\n",
    "staten_is_df = census_pd.loc[[\"10302\", \"10303\", \"10310\", \n",
    "                          \"10306\", \"10307\", \"10308\", \"10309\", \"10312\", \n",
    "                          \"10301\", \"10304\", \"10305\", \n",
    "                          \"10314\"], :]\n",
    "\n",
    "# Add borough column\n",
    "staten_is_df['Borough'] = \"Staten Island\""
   ]
  },
  {
   "cell_type": "code",
   "execution_count": 8,
   "metadata": {},
   "outputs": [],
   "source": [
    "# Create DataFrame for only Queens zipcodes\n",
    "queens_df = census_pd.loc[[\"11361\", \"11362\", \"11363\", \"11364\", \n",
    "                           \"11354\", \"11355\", \"11356\", \"11357\", \"11358\", \n",
    "                           \"11360\", \"11365\", \"11366\", \"11367\", \n",
    "                           \"11412\", \"11423\", \"11432\", \"11433\", \"11434\", \"11435\", \"11436\", \n",
    "                           \"11101\", \"11102\", \"11103\", \"11104\", \"11105\", \"11106\", \n",
    "                           \"11374\", \"11375\", \"11379\", \"11385\", \n",
    "                           \"11691\", \"11692\", \"11693\", \"11694\", \"11697\", \n",
    "                           \"11004\", \"11005\", \"11411\", \"11413\", \"11422\", \"11426\", \"11427\", \n",
    "                           \"11428\", \"11429\", \"11414\", \"11415\", \"11416\", \"11417\", \n",
    "                           \"11418\", \"11419\", \"11420\", \"11421\", \n",
    "                           \"11368\", \"11369\", \"11370\", \"11372\", \"11373\", \"11377\", \n",
    "                           \"11378\"], :]\n",
    "\n",
    "# Add borough column\n",
    "queens_df['Borough'] = \"Queens\""
   ]
  },
  {
   "cell_type": "code",
   "execution_count": 9,
   "metadata": {},
   "outputs": [
    {
     "data": {
      "text/html": [
       "<div>\n",
       "<style scoped>\n",
       "    .dataframe tbody tr th:only-of-type {\n",
       "        vertical-align: middle;\n",
       "    }\n",
       "\n",
       "    .dataframe tbody tr th {\n",
       "        vertical-align: top;\n",
       "    }\n",
       "\n",
       "    .dataframe thead th {\n",
       "        text-align: right;\n",
       "    }\n",
       "</style>\n",
       "<table border=\"1\" class=\"dataframe\">\n",
       "  <thead>\n",
       "    <tr style=\"text-align: right;\">\n",
       "      <th></th>\n",
       "      <th>Population</th>\n",
       "      <th>Household Income</th>\n",
       "      <th>Per Capita Income</th>\n",
       "      <th>Poverty Count</th>\n",
       "      <th>Poverty Rate</th>\n",
       "      <th>Borough</th>\n",
       "    </tr>\n",
       "    <tr>\n",
       "      <th>Zipcode</th>\n",
       "      <th></th>\n",
       "      <th></th>\n",
       "      <th></th>\n",
       "      <th></th>\n",
       "      <th></th>\n",
       "      <th></th>\n",
       "    </tr>\n",
       "  </thead>\n",
       "  <tbody>\n",
       "    <tr>\n",
       "      <th>10453</th>\n",
       "      <td>82232.0</td>\n",
       "      <td>24421.0</td>\n",
       "      <td>13386.0</td>\n",
       "      <td>33803.0</td>\n",
       "      <td>41.106868</td>\n",
       "      <td>Bronx</td>\n",
       "    </tr>\n",
       "    <tr>\n",
       "      <th>10457</th>\n",
       "      <td>75668.0</td>\n",
       "      <td>27036.0</td>\n",
       "      <td>13952.0</td>\n",
       "      <td>28098.0</td>\n",
       "      <td>37.133266</td>\n",
       "      <td>Bronx</td>\n",
       "    </tr>\n",
       "    <tr>\n",
       "      <th>10460</th>\n",
       "      <td>60772.0</td>\n",
       "      <td>25948.0</td>\n",
       "      <td>14716.0</td>\n",
       "      <td>22788.0</td>\n",
       "      <td>37.497532</td>\n",
       "      <td>Bronx</td>\n",
       "    </tr>\n",
       "    <tr>\n",
       "      <th>10458</th>\n",
       "      <td>85157.0</td>\n",
       "      <td>32129.0</td>\n",
       "      <td>15612.0</td>\n",
       "      <td>29634.0</td>\n",
       "      <td>34.799253</td>\n",
       "      <td>Bronx</td>\n",
       "    </tr>\n",
       "    <tr>\n",
       "      <th>10467</th>\n",
       "      <td>102718.0</td>\n",
       "      <td>35381.0</td>\n",
       "      <td>18402.0</td>\n",
       "      <td>30253.0</td>\n",
       "      <td>29.452482</td>\n",
       "      <td>Bronx</td>\n",
       "    </tr>\n",
       "  </tbody>\n",
       "</table>\n",
       "</div>"
      ],
      "text/plain": [
       "         Population  Household Income  Per Capita Income  Poverty Count  \\\n",
       "Zipcode                                                                   \n",
       "10453       82232.0           24421.0            13386.0        33803.0   \n",
       "10457       75668.0           27036.0            13952.0        28098.0   \n",
       "10460       60772.0           25948.0            14716.0        22788.0   \n",
       "10458       85157.0           32129.0            15612.0        29634.0   \n",
       "10467      102718.0           35381.0            18402.0        30253.0   \n",
       "\n",
       "         Poverty Rate Borough  \n",
       "Zipcode                        \n",
       "10453       41.106868   Bronx  \n",
       "10457       37.133266   Bronx  \n",
       "10460       37.497532   Bronx  \n",
       "10458       34.799253   Bronx  \n",
       "10467       29.452482   Bronx  "
      ]
     },
     "execution_count": 9,
     "metadata": {},
     "output_type": "execute_result"
    }
   ],
   "source": [
    "# Combine borough DataFrames to one DataFrame\n",
    "combined_data = pd.concat([bronx_df, brooklyn_df, manhattan_df, staten_is_df, queens_df], axis=0)\n",
    "combined_data.head()"
   ]
  },
  {
   "cell_type": "code",
   "execution_count": 10,
   "metadata": {},
   "outputs": [],
   "source": [
    "# Now that poverty count is no longer needed, delete column\n",
    "del combined_data [\"Poverty Count\"]"
   ]
  },
  {
   "cell_type": "code",
   "execution_count": 11,
   "metadata": {},
   "outputs": [],
   "source": [
    "# Save as a csv\n",
    "# Note to avoid any issues later, use encoding=\"utf-8\"\n",
    "census_pd.to_csv(\"census_data.csv\", encoding=\"utf-8\", index=False)"
   ]
  },
  {
   "cell_type": "code",
   "execution_count": 12,
   "metadata": {},
   "outputs": [
    {
     "data": {
      "text/html": [
       "<div>\n",
       "<style scoped>\n",
       "    .dataframe tbody tr th:only-of-type {\n",
       "        vertical-align: middle;\n",
       "    }\n",
       "\n",
       "    .dataframe tbody tr th {\n",
       "        vertical-align: top;\n",
       "    }\n",
       "\n",
       "    .dataframe thead th {\n",
       "        text-align: right;\n",
       "    }\n",
       "</style>\n",
       "<table border=\"1\" class=\"dataframe\">\n",
       "  <thead>\n",
       "    <tr style=\"text-align: right;\">\n",
       "      <th></th>\n",
       "      <th>Retailer</th>\n",
       "      <th>Name</th>\n",
       "      <th>Street</th>\n",
       "      <th>City</th>\n",
       "      <th>State</th>\n",
       "      <th>Zip</th>\n",
       "      <th>Quick Draw</th>\n",
       "      <th>Latitude</th>\n",
       "      <th>Longitude</th>\n",
       "      <th>Location 1</th>\n",
       "    </tr>\n",
       "  </thead>\n",
       "  <tbody>\n",
       "    <tr>\n",
       "      <th>0</th>\n",
       "      <td>106629</td>\n",
       "      <td>LONG ISLAND WINES AND LIQUORS</td>\n",
       "      <td>295 MONTAUK HIGHWAY</td>\n",
       "      <td>SPEONK</td>\n",
       "      <td>NY</td>\n",
       "      <td>11972</td>\n",
       "      <td>NaN</td>\n",
       "      <td>40.819012</td>\n",
       "      <td>-72.704034</td>\n",
       "      <td>(40.819012, -72.704034)</td>\n",
       "    </tr>\n",
       "    <tr>\n",
       "      <th>1</th>\n",
       "      <td>70092</td>\n",
       "      <td>UNION HOUSE INN</td>\n",
       "      <td>22-24 HEPPER STREET</td>\n",
       "      <td>WALDEN</td>\n",
       "      <td>NY</td>\n",
       "      <td>12586</td>\n",
       "      <td>Y</td>\n",
       "      <td>41.559826</td>\n",
       "      <td>-74.185246</td>\n",
       "      <td>(41.559826, -74.185246)</td>\n",
       "    </tr>\n",
       "    <tr>\n",
       "      <th>2</th>\n",
       "      <td>76104</td>\n",
       "      <td>KWIK FILL #397</td>\n",
       "      <td>3635 RT 78</td>\n",
       "      <td>STRYKERSVILLE</td>\n",
       "      <td>NY</td>\n",
       "      <td>14145</td>\n",
       "      <td>NaN</td>\n",
       "      <td>42.710950</td>\n",
       "      <td>-78.456114</td>\n",
       "      <td>(42.71095, -78.456114)</td>\n",
       "    </tr>\n",
       "    <tr>\n",
       "      <th>3</th>\n",
       "      <td>31201</td>\n",
       "      <td>PRICE CHOPPER #181</td>\n",
       "      <td>79 VANDENBURG AVE</td>\n",
       "      <td>TROY</td>\n",
       "      <td>NY</td>\n",
       "      <td>12180</td>\n",
       "      <td>Y</td>\n",
       "      <td>42.705053</td>\n",
       "      <td>-73.690551</td>\n",
       "      <td>(42.705053, -73.690551)</td>\n",
       "    </tr>\n",
       "    <tr>\n",
       "      <th>4</th>\n",
       "      <td>106198</td>\n",
       "      <td>ROUTE 51 BEER BELLY BOB'S LLC</td>\n",
       "      <td>70 OTSEGO ST</td>\n",
       "      <td>ILION</td>\n",
       "      <td>NY</td>\n",
       "      <td>13357</td>\n",
       "      <td>Y</td>\n",
       "      <td>43.013712</td>\n",
       "      <td>-75.037112</td>\n",
       "      <td>(43.013712, -75.037112)</td>\n",
       "    </tr>\n",
       "  </tbody>\n",
       "</table>\n",
       "</div>"
      ],
      "text/plain": [
       "   Retailer                           Name               Street  \\\n",
       "0    106629  LONG ISLAND WINES AND LIQUORS  295 MONTAUK HIGHWAY   \n",
       "1     70092                UNION HOUSE INN  22-24 HEPPER STREET   \n",
       "2     76104                 KWIK FILL #397           3635 RT 78   \n",
       "3     31201             PRICE CHOPPER #181    79 VANDENBURG AVE   \n",
       "4    106198  ROUTE 51 BEER BELLY BOB'S LLC         70 OTSEGO ST   \n",
       "\n",
       "            City State    Zip Quick Draw   Latitude  Longitude  \\\n",
       "0         SPEONK    NY  11972        NaN  40.819012 -72.704034   \n",
       "1         WALDEN    NY  12586          Y  41.559826 -74.185246   \n",
       "2  STRYKERSVILLE    NY  14145        NaN  42.710950 -78.456114   \n",
       "3           TROY    NY  12180          Y  42.705053 -73.690551   \n",
       "4          ILION    NY  13357          Y  43.013712 -75.037112   \n",
       "\n",
       "                Location 1  \n",
       "0  (40.819012, -72.704034)  \n",
       "1  (41.559826, -74.185246)  \n",
       "2   (42.71095, -78.456114)  \n",
       "3  (42.705053, -73.690551)  \n",
       "4  (43.013712, -75.037112)  "
      ]
     },
     "execution_count": 12,
     "metadata": {},
     "output_type": "execute_result"
    }
   ],
   "source": [
    "# Read in lottery csv\n",
    "lottery_df = pd.read_csv('NYS_Lottery_Retailers.csv')\n",
    "lottery_df.head()"
   ]
  },
  {
   "cell_type": "code",
   "execution_count": 13,
   "metadata": {},
   "outputs": [],
   "source": [
    "# Clean lottery data\n",
    "del lottery_df [\"Quick Draw\"]\n",
    "del lottery_df [\"Location 1\"]\n",
    "del lottery_df [\"Street\"]\n",
    "del lottery_df [\"Latitude\"]\n",
    "del lottery_df [\"Longitude\"]\n",
    "del lottery_df [\"Name\"]\n",
    "del lottery_df [\"City\"]\n",
    "del lottery_df [\"State\"]\n",
    "del lottery_df [\"Retailer\"]\n",
    "\n",
    "# Rename Zip to Zipcode\n",
    "lottery_df = lottery_df.rename(columns={\"Zip\":\"Zipcode\"})"
   ]
  },
  {
   "cell_type": "code",
   "execution_count": 14,
   "metadata": {},
   "outputs": [
    {
     "data": {
      "text/html": [
       "<div>\n",
       "<style scoped>\n",
       "    .dataframe tbody tr th:only-of-type {\n",
       "        vertical-align: middle;\n",
       "    }\n",
       "\n",
       "    .dataframe tbody tr th {\n",
       "        vertical-align: top;\n",
       "    }\n",
       "\n",
       "    .dataframe thead th {\n",
       "        text-align: right;\n",
       "    }\n",
       "</style>\n",
       "<table border=\"1\" class=\"dataframe\">\n",
       "  <thead>\n",
       "    <tr style=\"text-align: right;\">\n",
       "      <th></th>\n",
       "      <th>Population</th>\n",
       "      <th>Household Income</th>\n",
       "      <th>Per Capita Income</th>\n",
       "      <th>Poverty Rate</th>\n",
       "      <th>Borough</th>\n",
       "      <th>Zipcode</th>\n",
       "    </tr>\n",
       "    <tr>\n",
       "      <th>index_num</th>\n",
       "      <th></th>\n",
       "      <th></th>\n",
       "      <th></th>\n",
       "      <th></th>\n",
       "      <th></th>\n",
       "      <th></th>\n",
       "    </tr>\n",
       "  </thead>\n",
       "  <tbody>\n",
       "    <tr>\n",
       "      <th>10453</th>\n",
       "      <td>82232.0</td>\n",
       "      <td>24421.0</td>\n",
       "      <td>13386.0</td>\n",
       "      <td>41.106868</td>\n",
       "      <td>Bronx</td>\n",
       "      <td>10453</td>\n",
       "    </tr>\n",
       "    <tr>\n",
       "      <th>10457</th>\n",
       "      <td>75668.0</td>\n",
       "      <td>27036.0</td>\n",
       "      <td>13952.0</td>\n",
       "      <td>37.133266</td>\n",
       "      <td>Bronx</td>\n",
       "      <td>10457</td>\n",
       "    </tr>\n",
       "    <tr>\n",
       "      <th>10460</th>\n",
       "      <td>60772.0</td>\n",
       "      <td>25948.0</td>\n",
       "      <td>14716.0</td>\n",
       "      <td>37.497532</td>\n",
       "      <td>Bronx</td>\n",
       "      <td>10460</td>\n",
       "    </tr>\n",
       "    <tr>\n",
       "      <th>10458</th>\n",
       "      <td>85157.0</td>\n",
       "      <td>32129.0</td>\n",
       "      <td>15612.0</td>\n",
       "      <td>34.799253</td>\n",
       "      <td>Bronx</td>\n",
       "      <td>10458</td>\n",
       "    </tr>\n",
       "    <tr>\n",
       "      <th>10467</th>\n",
       "      <td>102718.0</td>\n",
       "      <td>35381.0</td>\n",
       "      <td>18402.0</td>\n",
       "      <td>29.452482</td>\n",
       "      <td>Bronx</td>\n",
       "      <td>10467</td>\n",
       "    </tr>\n",
       "  </tbody>\n",
       "</table>\n",
       "</div>"
      ],
      "text/plain": [
       "           Population  Household Income  Per Capita Income  Poverty Rate  \\\n",
       "index_num                                                                  \n",
       "10453         82232.0           24421.0            13386.0     41.106868   \n",
       "10457         75668.0           27036.0            13952.0     37.133266   \n",
       "10460         60772.0           25948.0            14716.0     37.497532   \n",
       "10458         85157.0           32129.0            15612.0     34.799253   \n",
       "10467        102718.0           35381.0            18402.0     29.452482   \n",
       "\n",
       "          Borough  Zipcode  \n",
       "index_num                   \n",
       "10453       Bronx    10453  \n",
       "10457       Bronx    10457  \n",
       "10460       Bronx    10460  \n",
       "10458       Bronx    10458  \n",
       "10467       Bronx    10467  "
      ]
     },
     "execution_count": 14,
     "metadata": {},
     "output_type": "execute_result"
    }
   ],
   "source": [
    "#Set zip as int then set as new index\n",
    "combined_data['index_num']=combined_data.index.astype(int)\n",
    "combined_data['Zipcode']=combined_data.index.astype(int)\n",
    "\n",
    "combined_data=combined_data.set_index('index_num')\n",
    "combined_data.head()"
   ]
  },
  {
   "cell_type": "code",
   "execution_count": 15,
   "metadata": {},
   "outputs": [
    {
     "data": {
      "text/plain": [
       "Borough\n",
       "Bronx            42134.800000\n",
       "Brooklyn         57085.351351\n",
       "Manhattan        95163.142857\n",
       "Queens           66793.813559\n",
       "Staten Island    75213.583333\n",
       "Name: Household Income, dtype: float64"
      ]
     },
     "execution_count": 15,
     "metadata": {},
     "output_type": "execute_result"
    }
   ],
   "source": [
    "# See average household income for each borough\n",
    "borough_avg = combined_data.groupby('Borough')\n",
    "\n",
    "avg_income = borough_avg['Household Income'].mean()\n",
    "avg_income"
   ]
  },
  {
   "cell_type": "code",
   "execution_count": 16,
   "metadata": {},
   "outputs": [
    {
     "data": {
      "text/plain": [
       "Borough\n",
       "Bronx            27.401093\n",
       "Brooklyn         21.277112\n",
       "Manhattan        14.877697\n",
       "Queens           12.321718\n",
       "Staten Island    13.891660\n",
       "Name: Poverty Rate, dtype: float64"
      ]
     },
     "execution_count": 16,
     "metadata": {},
     "output_type": "execute_result"
    }
   ],
   "source": [
    "# See poverty rate for each borough\n",
    "borough_pr_avg = combined_data.groupby('Borough')\n",
    "\n",
    "poverty_rate = borough_pr_avg['Poverty Rate'].mean()\n",
    "poverty_rate"
   ]
  },
  {
   "cell_type": "code",
   "execution_count": 17,
   "metadata": {},
   "outputs": [
    {
     "data": {
      "text/plain": [
       "Borough\n",
       "Bronx            21725.000000\n",
       "Brooklyn         31480.378378\n",
       "Manhattan        77625.952381\n",
       "Queens           31079.949153\n",
       "Staten Island    33176.833333\n",
       "Name: Per Capita Income, dtype: float64"
      ]
     },
     "execution_count": 17,
     "metadata": {},
     "output_type": "execute_result"
    }
   ],
   "source": [
    "# See poverty rate for each boroug_avg \n",
    "borough_percapita = combined_data.groupby('Borough')\n",
    "\n",
    "income_percapitas = borough_percapita['Per Capita Income'].mean()\n",
    "income_percapitas"
   ]
  },
  {
   "cell_type": "code",
   "execution_count": 18,
   "metadata": {},
   "outputs": [
    {
     "data": {
      "text/html": [
       "<div>\n",
       "<style scoped>\n",
       "    .dataframe tbody tr th:only-of-type {\n",
       "        vertical-align: middle;\n",
       "    }\n",
       "\n",
       "    .dataframe tbody tr th {\n",
       "        vertical-align: top;\n",
       "    }\n",
       "\n",
       "    .dataframe thead th {\n",
       "        text-align: right;\n",
       "    }\n",
       "</style>\n",
       "<table border=\"1\" class=\"dataframe\">\n",
       "  <thead>\n",
       "    <tr style=\"text-align: right;\">\n",
       "      <th></th>\n",
       "      <th>Population</th>\n",
       "      <th>Average Household Income (Zipcode)</th>\n",
       "      <th>Per Capita Income</th>\n",
       "      <th>Poverty Rate</th>\n",
       "      <th>Borough</th>\n",
       "      <th>Zipcode</th>\n",
       "      <th>Average Household Income (Per Borough)</th>\n",
       "    </tr>\n",
       "    <tr>\n",
       "      <th>index_num</th>\n",
       "      <th></th>\n",
       "      <th></th>\n",
       "      <th></th>\n",
       "      <th></th>\n",
       "      <th></th>\n",
       "      <th></th>\n",
       "      <th></th>\n",
       "    </tr>\n",
       "  </thead>\n",
       "  <tbody>\n",
       "    <tr>\n",
       "      <th>10453</th>\n",
       "      <td>82232.0</td>\n",
       "      <td>24421.0</td>\n",
       "      <td>13386.0</td>\n",
       "      <td>41.106868</td>\n",
       "      <td>Bronx</td>\n",
       "      <td>10453</td>\n",
       "      <td>42134.8</td>\n",
       "    </tr>\n",
       "    <tr>\n",
       "      <th>10457</th>\n",
       "      <td>75668.0</td>\n",
       "      <td>27036.0</td>\n",
       "      <td>13952.0</td>\n",
       "      <td>37.133266</td>\n",
       "      <td>Bronx</td>\n",
       "      <td>10457</td>\n",
       "      <td>42134.8</td>\n",
       "    </tr>\n",
       "    <tr>\n",
       "      <th>10460</th>\n",
       "      <td>60772.0</td>\n",
       "      <td>25948.0</td>\n",
       "      <td>14716.0</td>\n",
       "      <td>37.497532</td>\n",
       "      <td>Bronx</td>\n",
       "      <td>10460</td>\n",
       "      <td>42134.8</td>\n",
       "    </tr>\n",
       "    <tr>\n",
       "      <th>10458</th>\n",
       "      <td>85157.0</td>\n",
       "      <td>32129.0</td>\n",
       "      <td>15612.0</td>\n",
       "      <td>34.799253</td>\n",
       "      <td>Bronx</td>\n",
       "      <td>10458</td>\n",
       "      <td>42134.8</td>\n",
       "    </tr>\n",
       "    <tr>\n",
       "      <th>10467</th>\n",
       "      <td>102718.0</td>\n",
       "      <td>35381.0</td>\n",
       "      <td>18402.0</td>\n",
       "      <td>29.452482</td>\n",
       "      <td>Bronx</td>\n",
       "      <td>10467</td>\n",
       "      <td>42134.8</td>\n",
       "    </tr>\n",
       "  </tbody>\n",
       "</table>\n",
       "</div>"
      ],
      "text/plain": [
       "           Population  Average Household Income (Zipcode)  Per Capita Income  \\\n",
       "index_num                                                                      \n",
       "10453         82232.0                             24421.0            13386.0   \n",
       "10457         75668.0                             27036.0            13952.0   \n",
       "10460         60772.0                             25948.0            14716.0   \n",
       "10458         85157.0                             32129.0            15612.0   \n",
       "10467        102718.0                             35381.0            18402.0   \n",
       "\n",
       "           Poverty Rate Borough  Zipcode  \\\n",
       "index_num                                  \n",
       "10453         41.106868   Bronx    10453   \n",
       "10457         37.133266   Bronx    10457   \n",
       "10460         37.497532   Bronx    10460   \n",
       "10458         34.799253   Bronx    10458   \n",
       "10467         29.452482   Bronx    10467   \n",
       "\n",
       "           Average Household Income (Per Borough)  \n",
       "index_num                                          \n",
       "10453                                     42134.8  \n",
       "10457                                     42134.8  \n",
       "10460                                     42134.8  \n",
       "10458                                     42134.8  \n",
       "10467                                     42134.8  "
      ]
     },
     "execution_count": 18,
     "metadata": {},
     "output_type": "execute_result"
    }
   ],
   "source": [
    "# Add Average income to DF and rename colomns\n",
    "combined_data2 = combined_data.merge(avg_income, left_on='Borough', right_index=True)\n",
    "combined_data2 = combined_data2.rename(columns = {\"Household Income_y\":\"Average Household Income (Per Borough)\", \n",
    "                                                 \"Household Income_x\":\"Average Household Income (Zipcode)\"})\n",
    "combined_data2.head()"
   ]
  },
  {
   "cell_type": "code",
   "execution_count": 19,
   "metadata": {
    "scrolled": false
   },
   "outputs": [
    {
     "data": {
      "text/html": [
       "<div>\n",
       "<style scoped>\n",
       "    .dataframe tbody tr th:only-of-type {\n",
       "        vertical-align: middle;\n",
       "    }\n",
       "\n",
       "    .dataframe tbody tr th {\n",
       "        vertical-align: top;\n",
       "    }\n",
       "\n",
       "    .dataframe thead th {\n",
       "        text-align: right;\n",
       "    }\n",
       "</style>\n",
       "<table border=\"1\" class=\"dataframe\">\n",
       "  <thead>\n",
       "    <tr style=\"text-align: right;\">\n",
       "      <th></th>\n",
       "      <th>Zipcode</th>\n",
       "      <th>Population</th>\n",
       "      <th>Average Household Income (Zipcode)</th>\n",
       "      <th>Per Capita Income</th>\n",
       "      <th>Poverty Rate</th>\n",
       "      <th>Borough</th>\n",
       "      <th>Zipcode_x</th>\n",
       "      <th>Average Household Income (Per Borough)</th>\n",
       "      <th>Zipcode_y</th>\n",
       "    </tr>\n",
       "  </thead>\n",
       "  <tbody>\n",
       "    <tr>\n",
       "      <th>775</th>\n",
       "      <td>10453</td>\n",
       "      <td>82232.0</td>\n",
       "      <td>24421.0</td>\n",
       "      <td>13386.0</td>\n",
       "      <td>41.106868</td>\n",
       "      <td>Bronx</td>\n",
       "      <td>10453</td>\n",
       "      <td>42134.8</td>\n",
       "      <td>10453</td>\n",
       "    </tr>\n",
       "    <tr>\n",
       "      <th>1433</th>\n",
       "      <td>10453</td>\n",
       "      <td>82232.0</td>\n",
       "      <td>24421.0</td>\n",
       "      <td>13386.0</td>\n",
       "      <td>41.106868</td>\n",
       "      <td>Bronx</td>\n",
       "      <td>10453</td>\n",
       "      <td>42134.8</td>\n",
       "      <td>10453</td>\n",
       "    </tr>\n",
       "    <tr>\n",
       "      <th>1613</th>\n",
       "      <td>10453</td>\n",
       "      <td>82232.0</td>\n",
       "      <td>24421.0</td>\n",
       "      <td>13386.0</td>\n",
       "      <td>41.106868</td>\n",
       "      <td>Bronx</td>\n",
       "      <td>10453</td>\n",
       "      <td>42134.8</td>\n",
       "      <td>10453</td>\n",
       "    </tr>\n",
       "    <tr>\n",
       "      <th>1638</th>\n",
       "      <td>10453</td>\n",
       "      <td>82232.0</td>\n",
       "      <td>24421.0</td>\n",
       "      <td>13386.0</td>\n",
       "      <td>41.106868</td>\n",
       "      <td>Bronx</td>\n",
       "      <td>10453</td>\n",
       "      <td>42134.8</td>\n",
       "      <td>10453</td>\n",
       "    </tr>\n",
       "    <tr>\n",
       "      <th>2100</th>\n",
       "      <td>10453</td>\n",
       "      <td>82232.0</td>\n",
       "      <td>24421.0</td>\n",
       "      <td>13386.0</td>\n",
       "      <td>41.106868</td>\n",
       "      <td>Bronx</td>\n",
       "      <td>10453</td>\n",
       "      <td>42134.8</td>\n",
       "      <td>10453</td>\n",
       "    </tr>\n",
       "  </tbody>\n",
       "</table>\n",
       "</div>"
      ],
      "text/plain": [
       "      Zipcode  Population  Average Household Income (Zipcode)  \\\n",
       "775     10453     82232.0                             24421.0   \n",
       "1433    10453     82232.0                             24421.0   \n",
       "1613    10453     82232.0                             24421.0   \n",
       "1638    10453     82232.0                             24421.0   \n",
       "2100    10453     82232.0                             24421.0   \n",
       "\n",
       "      Per Capita Income  Poverty Rate Borough  Zipcode_x  \\\n",
       "775             13386.0     41.106868   Bronx      10453   \n",
       "1433            13386.0     41.106868   Bronx      10453   \n",
       "1613            13386.0     41.106868   Bronx      10453   \n",
       "1638            13386.0     41.106868   Bronx      10453   \n",
       "2100            13386.0     41.106868   Bronx      10453   \n",
       "\n",
       "      Average Household Income (Per Borough)  Zipcode_y  \n",
       "775                                  42134.8      10453  \n",
       "1433                                 42134.8      10453  \n",
       "1613                                 42134.8      10453  \n",
       "1638                                 42134.8      10453  \n",
       "2100                                 42134.8      10453  "
      ]
     },
     "execution_count": 19,
     "metadata": {},
     "output_type": "execute_result"
    }
   ],
   "source": [
    "# Merge lottery data and cencus data\n",
    "combined_data3 = pd.merge(combined_data2, lottery_df, left_index=True, right_on='Zipcode')\n",
    "combined_data3.head()"
   ]
  },
  {
   "cell_type": "code",
   "execution_count": 20,
   "metadata": {
    "scrolled": true
   },
   "outputs": [
    {
     "data": {
      "text/html": [
       "<div>\n",
       "<style scoped>\n",
       "    .dataframe tbody tr th:only-of-type {\n",
       "        vertical-align: middle;\n",
       "    }\n",
       "\n",
       "    .dataframe tbody tr th {\n",
       "        vertical-align: top;\n",
       "    }\n",
       "\n",
       "    .dataframe thead th {\n",
       "        text-align: right;\n",
       "    }\n",
       "</style>\n",
       "<table border=\"1\" class=\"dataframe\">\n",
       "  <thead>\n",
       "    <tr style=\"text-align: right;\">\n",
       "      <th></th>\n",
       "      <th>Zipcode</th>\n",
       "      <th>Population</th>\n",
       "      <th>Average Household Income (Zipcode)</th>\n",
       "      <th>Per Capita Income (Per Zipcode)</th>\n",
       "      <th>Poverty Rate(%)</th>\n",
       "      <th>Borough</th>\n",
       "      <th>Average Household Income (Per Borough)</th>\n",
       "    </tr>\n",
       "  </thead>\n",
       "  <tbody>\n",
       "    <tr>\n",
       "      <th>775</th>\n",
       "      <td>10453</td>\n",
       "      <td>82232.0</td>\n",
       "      <td>24421.0</td>\n",
       "      <td>13386.0</td>\n",
       "      <td>41.106868</td>\n",
       "      <td>Bronx</td>\n",
       "      <td>42134.8</td>\n",
       "    </tr>\n",
       "    <tr>\n",
       "      <th>1433</th>\n",
       "      <td>10453</td>\n",
       "      <td>82232.0</td>\n",
       "      <td>24421.0</td>\n",
       "      <td>13386.0</td>\n",
       "      <td>41.106868</td>\n",
       "      <td>Bronx</td>\n",
       "      <td>42134.8</td>\n",
       "    </tr>\n",
       "    <tr>\n",
       "      <th>1613</th>\n",
       "      <td>10453</td>\n",
       "      <td>82232.0</td>\n",
       "      <td>24421.0</td>\n",
       "      <td>13386.0</td>\n",
       "      <td>41.106868</td>\n",
       "      <td>Bronx</td>\n",
       "      <td>42134.8</td>\n",
       "    </tr>\n",
       "    <tr>\n",
       "      <th>1638</th>\n",
       "      <td>10453</td>\n",
       "      <td>82232.0</td>\n",
       "      <td>24421.0</td>\n",
       "      <td>13386.0</td>\n",
       "      <td>41.106868</td>\n",
       "      <td>Bronx</td>\n",
       "      <td>42134.8</td>\n",
       "    </tr>\n",
       "    <tr>\n",
       "      <th>2100</th>\n",
       "      <td>10453</td>\n",
       "      <td>82232.0</td>\n",
       "      <td>24421.0</td>\n",
       "      <td>13386.0</td>\n",
       "      <td>41.106868</td>\n",
       "      <td>Bronx</td>\n",
       "      <td>42134.8</td>\n",
       "    </tr>\n",
       "  </tbody>\n",
       "</table>\n",
       "</div>"
      ],
      "text/plain": [
       "      Zipcode  Population  Average Household Income (Zipcode)  \\\n",
       "775     10453     82232.0                             24421.0   \n",
       "1433    10453     82232.0                             24421.0   \n",
       "1613    10453     82232.0                             24421.0   \n",
       "1638    10453     82232.0                             24421.0   \n",
       "2100    10453     82232.0                             24421.0   \n",
       "\n",
       "      Per Capita Income (Per Zipcode)  Poverty Rate(%) Borough  \\\n",
       "775                           13386.0        41.106868   Bronx   \n",
       "1433                          13386.0        41.106868   Bronx   \n",
       "1613                          13386.0        41.106868   Bronx   \n",
       "1638                          13386.0        41.106868   Bronx   \n",
       "2100                          13386.0        41.106868   Bronx   \n",
       "\n",
       "      Average Household Income (Per Borough)  \n",
       "775                                  42134.8  \n",
       "1433                                 42134.8  \n",
       "1613                                 42134.8  \n",
       "1638                                 42134.8  \n",
       "2100                                 42134.8  "
      ]
     },
     "execution_count": 20,
     "metadata": {},
     "output_type": "execute_result"
    }
   ],
   "source": [
    "# Clean new DF\n",
    "combined_data3 = combined_data3.rename(columns={\"Poverty Rate\":\"Poverty Rate(%)\",\n",
    "                                               \"Per Capita Income\":\"Per Capita Income (Per Zipcode)\"})\n",
    "\n",
    "del combined_data3 [\"Zipcode_x\"]\n",
    "del combined_data3 [\"Zipcode_y\"]\n",
    "\n",
    "combined_data3.head()"
   ]
  },
  {
   "cell_type": "code",
   "execution_count": 21,
   "metadata": {},
   "outputs": [
    {
     "data": {
      "text/html": [
       "<div>\n",
       "<style scoped>\n",
       "    .dataframe tbody tr th:only-of-type {\n",
       "        vertical-align: middle;\n",
       "    }\n",
       "\n",
       "    .dataframe tbody tr th {\n",
       "        vertical-align: top;\n",
       "    }\n",
       "\n",
       "    .dataframe thead th {\n",
       "        text-align: right;\n",
       "    }\n",
       "</style>\n",
       "<table border=\"1\" class=\"dataframe\">\n",
       "  <thead>\n",
       "    <tr style=\"text-align: right;\">\n",
       "      <th></th>\n",
       "      <th>count</th>\n",
       "    </tr>\n",
       "    <tr>\n",
       "      <th>Borough</th>\n",
       "      <th></th>\n",
       "    </tr>\n",
       "  </thead>\n",
       "  <tbody>\n",
       "    <tr>\n",
       "      <th>Bronx</th>\n",
       "      <td>1009</td>\n",
       "    </tr>\n",
       "    <tr>\n",
       "      <th>Brooklyn</th>\n",
       "      <td>1785</td>\n",
       "    </tr>\n",
       "    <tr>\n",
       "      <th>Manhattan</th>\n",
       "      <td>1069</td>\n",
       "    </tr>\n",
       "    <tr>\n",
       "      <th>Queens</th>\n",
       "      <td>1673</td>\n",
       "    </tr>\n",
       "    <tr>\n",
       "      <th>Staten Island</th>\n",
       "      <td>347</td>\n",
       "    </tr>\n",
       "  </tbody>\n",
       "</table>\n",
       "</div>"
      ],
      "text/plain": [
       "               count\n",
       "Borough             \n",
       "Bronx           1009\n",
       "Brooklyn        1785\n",
       "Manhattan       1069\n",
       "Queens          1673\n",
       "Staten Island    347"
      ]
     },
     "execution_count": 21,
     "metadata": {},
     "output_type": "execute_result"
    }
   ],
   "source": [
    "# Find lottery retailer count per borough\n",
    "retailers_count = combined_data3.groupby('Borough')['Average Household Income (Per Borough)'].agg(['count'])\n",
    "retailers_count"
   ]
  },
  {
   "cell_type": "code",
   "execution_count": 22,
   "metadata": {},
   "outputs": [
    {
     "data": {
      "image/png": "[encoded data removed]",
      "text/plain": [
       "<Figure size 432x288 with 1 Axes>"
      ]
     },
     "metadata": {
      "needs_background": "light"
     },
     "output_type": "display_data"
    },
    {
     "data": {
      "text/plain": [
       "<Figure size 432x288 with 0 Axes>"
      ]
     },
     "metadata": {},
     "output_type": "display_data"
    }
   ],
   "source": [
    "# Chart our borough count data, give it a title, and label the axes\n",
    "count_chart = retailers_count.plot(kind=\"bar\", color='orange', title=\"Count of Lottery Retailers in NYC Boroughs\")\n",
    "count_chart.set_xlabel(\"Borough\")\n",
    "count_chart.set_ylabel(\"Number of Retailers\")\n",
    "plt.savefig(\"LotteryRetailerCount\")\n",
    "plt.show()\n",
    "plt.tight_layout()"
   ]
  },
  {
   "cell_type": "code",
   "execution_count": 23,
   "metadata": {},
   "outputs": [
    {
     "data": {
      "image/png": "[encoded data removed]",
      "text/plain": [
       "<Figure size 432x288 with 1 Axes>"
      ]
     },
     "metadata": {
      "needs_background": "light"
     },
     "output_type": "display_data"
    }
   ],
   "source": [
    "# Try Lollipop chart visual\n",
    "plt.hlines(y=np.arange(1,6),xmin=0,xmax=retailers_count['count'], color=\"skyblue\")\n",
    "plt.plot(combined_data3.groupby(['Borough'])['Zipcode'].count(), np.arange(1,6), \"o\", color=\"skyblue\")\n",
    "plt.yticks(np.arange(1,6), combined_data3['Borough'].unique())\n",
    "plt.title(\"NYC Lottery Retailer Count\")\n",
    "plt.xlabel(\"Count of NYC Lottery Retailers\")\n",
    "plt.ylabel(\"Borough\")\n",
    "plt.tight_layout()\n",
    "plt.savefig(\"LollipopLotteryRetailerCount\")\n",
    "plt.show()"
   ]
  },
  {
   "cell_type": "code",
   "execution_count": 24,
   "metadata": {},
   "outputs": [
    {
     "data": {
      "image/png": "[encoded data removed]",
      "text/plain": [
       "<Figure size 432x288 with 1 Axes>"
      ]
     },
     "metadata": {
      "needs_background": "light"
     },
     "output_type": "display_data"
    },
    {
     "data": {
      "text/plain": [
       "<Figure size 432x288 with 0 Axes>"
      ]
     },
     "metadata": {},
     "output_type": "display_data"
    }
   ],
   "source": [
    "# Split up our data into groups based upon 'borough'\n",
    "boroughs = combined_data3.groupby('Borough')\n",
    "\n",
    "# Find out the average household income per borough\n",
    "avg_incomes = boroughs['Average Household Income (Per Borough)'].mean()\n",
    "\n",
    "# Chart our data, give it a title, and label the axes\n",
    "income_chart = avg_incomes.plot(kind=\"bar\", color='mediumaquamarine', title=\"2017 Average Income in NYC Boroughs\")\n",
    "income_chart.set_xlabel(\"Borough\")\n",
    "income_chart.set_ylabel(\"Average Household Income Level ($)\")\n",
    "plt.savefig(\"2017AverageIncomeComparison\")\n",
    "plt.show()\n",
    "plt.tight_layout()"
   ]
  },
  {
   "cell_type": "code",
   "execution_count": 25,
   "metadata": {},
   "outputs": [
    {
     "data": {
      "image/png": "[encoded data removed]",
      "text/plain": [
       "<Figure size 432x288 with 1 Axes>"
      ]
     },
     "metadata": {
      "needs_background": "light"
     },
     "output_type": "display_data"
    },
    {
     "data": {
      "text/plain": [
       "<Figure size 432x288 with 0 Axes>"
      ]
     },
     "metadata": {},
     "output_type": "display_data"
    }
   ],
   "source": [
    "# Find the poverty rate per borough\n",
    "avg_poverty_rates = boroughs['Poverty Rate(%)'].mean()\n",
    "\n",
    "# Chart our data, give it a title, and label the axes\n",
    "poverty_chart = avg_poverty_rates.plot(kind=\"bar\", color='coral', title=\"2017 Poverty Rates(%) in each NYC Boroughs\")\n",
    "poverty_chart.set_xlabel(\"Borough\")\n",
    "poverty_chart.set_ylabel(\"Poverty Rate (%)\")\n",
    "plt.savefig(\"2017PovertyRateComparison\")\n",
    "plt.show()\n",
    "plt.tight_layout()"
   ]
  },
  {
   "cell_type": "code",
   "execution_count": 26,
   "metadata": {},
   "outputs": [
    {
     "data": {
      "image/png": "[encoded data removed]",
      "text/plain": [
       "<Figure size 432x288 with 1 Axes>"
      ]
     },
     "metadata": {
      "needs_background": "light"
     },
     "output_type": "display_data"
    },
    {
     "data": {
      "text/plain": [
       "<Figure size 432x288 with 0 Axes>"
      ]
     },
     "metadata": {},
     "output_type": "display_data"
    }
   ],
   "source": [
    "# Find out the average income per capita per borough\n",
    "percapita_income = boroughs['Per Capita Income (Per Zipcode)'].mean()\n",
    "\n",
    "# Chart our data, give it a title, and label the axes\n",
    "percapita_chart = percapita_income.plot(kind=\"bar\", color='olivedrab', title=\"2017 Per Capita Income (Per Zipcode) in each NYC Boroughs\")\n",
    "percapita_chart.set_xlabel(\"Borough\")\n",
    "percapita_chart.set_ylabel(\"Per Capita Income (Per Zipcode)\")\n",
    "plt.savefig(\"2017PerCapitaIncomeComparison\")\n",
    "plt.show()\n",
    "plt.tight_layout()"
   ]
  },
  {
   "cell_type": "code",
   "execution_count": 27,
   "metadata": {},
   "outputs": [
    {
     "data": {
      "text/html": [
       "<div>\n",
       "<style scoped>\n",
       "    .dataframe tbody tr th:only-of-type {\n",
       "        vertical-align: middle;\n",
       "    }\n",
       "\n",
       "    .dataframe tbody tr th {\n",
       "        vertical-align: top;\n",
       "    }\n",
       "\n",
       "    .dataframe thead th {\n",
       "        text-align: right;\n",
       "    }\n",
       "</style>\n",
       "<table border=\"1\" class=\"dataframe\">\n",
       "  <thead>\n",
       "    <tr style=\"text-align: right;\">\n",
       "      <th></th>\n",
       "      <th>count</th>\n",
       "      <th>sum</th>\n",
       "    </tr>\n",
       "    <tr>\n",
       "      <th>Borough</th>\n",
       "      <th></th>\n",
       "      <th></th>\n",
       "    </tr>\n",
       "  </thead>\n",
       "  <tbody>\n",
       "    <tr>\n",
       "      <th>Bronx</th>\n",
       "      <td>1009</td>\n",
       "      <td>68368012.0</td>\n",
       "    </tr>\n",
       "    <tr>\n",
       "      <th>Brooklyn</th>\n",
       "      <td>1785</td>\n",
       "      <td>140705454.0</td>\n",
       "    </tr>\n",
       "    <tr>\n",
       "      <th>Manhattan</th>\n",
       "      <td>1069</td>\n",
       "      <td>47412250.0</td>\n",
       "    </tr>\n",
       "    <tr>\n",
       "      <th>Queens</th>\n",
       "      <td>1673</td>\n",
       "      <td>94386070.0</td>\n",
       "    </tr>\n",
       "    <tr>\n",
       "      <th>Staten Island</th>\n",
       "      <td>347</td>\n",
       "      <td>15910121.0</td>\n",
       "    </tr>\n",
       "  </tbody>\n",
       "</table>\n",
       "</div>"
      ],
      "text/plain": [
       "               count          sum\n",
       "Borough                          \n",
       "Bronx           1009   68368012.0\n",
       "Brooklyn        1785  140705454.0\n",
       "Manhattan       1069   47412250.0\n",
       "Queens          1673   94386070.0\n",
       "Staten Island    347   15910121.0"
      ]
     },
     "execution_count": 27,
     "metadata": {},
     "output_type": "execute_result"
    }
   ],
   "source": [
    "# Find retailers percapita\n",
    "# Retailers count\n",
    "retailers_count = combined_data3.groupby('Borough')['Average Household Income (Per Borough)'].agg(['count'])\n",
    "# Population per borough\n",
    "borough_population = combined_data3.groupby('Borough')['Population'].agg(['sum'])\n",
    "# Combine data\n",
    "percapita_data = pd.concat([retailers_count, borough_population], axis=1)\n",
    "\n",
    "percapita_data"
   ]
  },
  {
   "cell_type": "code",
   "execution_count": 28,
   "metadata": {},
   "outputs": [
    {
     "data": {
      "image/png": "[encoded data removed]",
      "text/plain": [
       "<Figure size 432x288 with 1 Axes>"
      ]
     },
     "metadata": {
      "needs_background": "light"
     },
     "output_type": "display_data"
    }
   ],
   "source": [
    "# Chart retailers per capita\n",
    "retailer_per_person = [.00001476, .00001269, .00002255, .00001773, .00002181]\n",
    "x_axis = np.arange(len(retailer_per_person))\n",
    "\n",
    "tick_locations = [value for value in x_axis]\n",
    "plt.xticks(tick_locations, [\"Bronx\", \"Brooklyn\", \"Manhattan\", \"Queens\", \"Staten Island\"], rotation=\"vertical\")\n",
    "\n",
    "plt.title(\"Lottery Retailers Per Capita\")\n",
    "plt.xlabel(\"Borough\")\n",
    "plt.ylabel(\"Retailer Per Capita\")\n",
    "plt.bar(x_axis, retailer_per_person, color='teal', width=0.5, align = \"center\")\n",
    "plt.tight_layout()\n",
    "plt.savefig(\"LotteryRetailersPerCapita\")"
   ]
  },
  {
   "cell_type": "code",
   "execution_count": 29,
   "metadata": {},
   "outputs": [
    {
     "data": {
      "image/png": "[encoded data removed]",
      "text/plain": [
       "<Figure size 432x288 with 1 Axes>"
      ]
     },
     "metadata": {
      "needs_background": "light"
     },
     "output_type": "display_data"
    }
   ],
   "source": [
    "# Try Lollipop chart visual\n",
    "plt.hlines(y=np.arange(1,6),xmin=0,xmax=retailer_per_person, color=\"skyblue\")\n",
    "plt.plot(retailer_per_person, np.arange(1,6), \"o\", color=\"skyblue\")\n",
    "plt.yticks(np.arange(1,6), combined_data3['Borough'].unique())\n",
    "plt.title(\"NYC Lottery Retailers Per Capita\")\n",
    "plt.xlabel(\"NYC Lottery Retailers Per Capita\")\n",
    "plt.ylabel(\"Borough\")\n",
    "plt.tight_layout()\n",
    "plt.savefig(\"LollipopLotteryRetailerPerCapita\")\n",
    "plt.show()"
   ]
  },
  {
   "cell_type": "code",
   "execution_count": null,
   "metadata": {},
   "outputs": [],
   "source": []
  }
 ],
 "metadata": {
  "kernelspec": {
   "display_name": "Python [conda env:PythonData] *",
   "language": "python",
   "name": "conda-env-PythonData-py"
  },
  "language_info": {
   "codemirror_mode": {
    "name": "ipython",
    "version": 3
   },
   "file_extension": ".py",
   "mimetype": "text/x-python",
   "name": "python",
   "nbconvert_exporter": "python",
   "pygments_lexer": "ipython3",
   "version": "3.6.10"
  }
 },
 "nbformat": 4,
 "nbformat_minor": 4
}
